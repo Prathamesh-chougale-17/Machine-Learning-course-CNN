{
  "cells": [
    {
      "cell_type": "markdown",
      "metadata": {
        "id": "3DR-eO17geWu"
      },
      "source": [
        "# Convolutional Neural Network"
      ]
    },
    {
      "cell_type": "markdown",
      "metadata": {
        "id": "EMefrVPCg-60"
      },
      "source": [
        "### Importing the libraries"
      ]
    },
    {
      "cell_type": "code",
      "execution_count": 2,
      "metadata": {},
      "outputs": [],
      "source": [
        "# %pip install tensorflow"
      ]
    },
    {
      "cell_type": "code",
      "execution_count": 3,
      "metadata": {
        "id": "QDQnUdorq0Wn"
      },
      "outputs": [],
      "source": [
        "import tensorflow as tf\n",
        "from keras.preprocessing.image import ImageDataGenerator"
      ]
    },
    {
      "cell_type": "code",
      "execution_count": 4,
      "metadata": {
        "colab": {
          "base_uri": "https://localhost:8080/",
          "height": 35
        },
        "id": "fti9LgcKrOp8",
        "outputId": "83f15451-76f3-492c-ea36-78f715c0a30f"
      },
      "outputs": [
        {
          "data": {
            "text/plain": [
              "'2.10.0'"
            ]
          },
          "execution_count": 4,
          "metadata": {},
          "output_type": "execute_result"
        }
      ],
      "source": [
        "tf.__version__"
      ]
    },
    {
      "cell_type": "markdown",
      "metadata": {
        "id": "oxQxCBWyoGPE"
      },
      "source": [
        "## Part 1 - Data Preprocessing"
      ]
    },
    {
      "cell_type": "markdown",
      "metadata": {
        "id": "MvE-heJNo3GG"
      },
      "source": [
        "### Preprocessing the Training set"
      ]
    },
    {
      "cell_type": "code",
      "execution_count": 5,
      "metadata": {
        "id": "vIptHwMYrYUW"
      },
      "outputs": [
        {
          "name": "stdout",
          "output_type": "stream",
          "text": [
            "Found 8000 images belonging to 2 classes.\n"
          ]
        }
      ],
      "source": [
        "train_datagen = ImageDataGenerator(\n",
        "        rescale=1./255,\n",
        "        shear_range=0.2,\n",
        "        zoom_range=0.2,\n",
        "        horizontal_flip=True)\n",
        "# rescale is done for feature scaling and important part of CNN\n",
        "training_set = train_datagen.flow_from_directory(\n",
        "        'dataset/training_set',\n",
        "        target_size=(64, 64),\n",
        "        batch_size=32,\n",
        "        class_mode='binary')\n"
      ]
    },
    {
      "cell_type": "markdown",
      "metadata": {
        "id": "mrCMmGw9pHys"
      },
      "source": [
        "### Preprocessing the Test set"
      ]
    },
    {
      "cell_type": "code",
      "execution_count": 6,
      "metadata": {
        "id": "oLx9iRhH0wGR"
      },
      "outputs": [
        {
          "name": "stdout",
          "output_type": "stream",
          "text": [
            "Found 2000 images belonging to 2 classes.\n"
          ]
        }
      ],
      "source": [
        "test_datagen = ImageDataGenerator(rescale=1./255)\n",
        "test_set = test_datagen.flow_from_directory(\n",
        "        'dataset/test_set',\n",
        "        target_size=(64, 64),\n",
        "        batch_size=32,\n",
        "        class_mode='binary')"
      ]
    },
    {
      "cell_type": "markdown",
      "metadata": {
        "id": "af8O4l90gk7B"
      },
      "source": [
        "## Part 2 - Building the CNN"
      ]
    },
    {
      "cell_type": "markdown",
      "metadata": {
        "id": "ces1gXY2lmoX"
      },
      "source": [
        "### Initialising the CNN"
      ]
    },
    {
      "cell_type": "code",
      "execution_count": 7,
      "metadata": {
        "id": "zc04Zzz81rwE"
      },
      "outputs": [],
      "source": [
        "cnn = tf.keras.models.Sequential()"
      ]
    },
    {
      "cell_type": "markdown",
      "metadata": {
        "id": "u5YJj_XMl5LF"
      },
      "source": [
        "### Step 1 - Convolution"
      ]
    },
    {
      "cell_type": "code",
      "execution_count": 8,
      "metadata": {
        "id": "8355gxmt2D-z"
      },
      "outputs": [],
      "source": [
        "cnn.add(tf.keras.layers.Conv2D(filters=32, kernel_size=3, activation='relu', input_shape=[64, 64, 3]))"
      ]
    },
    {
      "cell_type": "markdown",
      "metadata": {
        "id": "tf87FpvxmNOJ"
      },
      "source": [
        "### Step 2 - Pooling"
      ]
    },
    {
      "cell_type": "code",
      "execution_count": 9,
      "metadata": {
        "id": "FU7eU-zDUI7O"
      },
      "outputs": [],
      "source": [
        "cnn.add(tf.keras.layers.MaxPool2D(pool_size=2,strides=2))"
      ]
    },
    {
      "cell_type": "markdown",
      "metadata": {
        "id": "xaTOgD8rm4mU"
      },
      "source": [
        "### Adding a second convolutional layer"
      ]
    },
    {
      "cell_type": "code",
      "execution_count": 10,
      "metadata": {
        "id": "VGPJxqEEVEHt"
      },
      "outputs": [],
      "source": [
        "cnn.add(tf.keras.layers.Conv2D(filters=32,kernel_size=3, activation='relu'))\n",
        "cnn.add(tf.keras.layers.MaxPool2D(pool_size=2,strides=2))"
      ]
    },
    {
      "cell_type": "markdown",
      "metadata": {
        "id": "tmiEuvTunKfk"
      },
      "source": [
        "### Step 3 - Flattening"
      ]
    },
    {
      "cell_type": "code",
      "execution_count": 11,
      "metadata": {
        "id": "VeT0Uj4EVMHK"
      },
      "outputs": [],
      "source": [
        "cnn.add(tf.keras.layers.Flatten())"
      ]
    },
    {
      "cell_type": "markdown",
      "metadata": {
        "id": "dAoSECOm203v"
      },
      "source": [
        "### Step 4 - Full Connection"
      ]
    },
    {
      "cell_type": "code",
      "execution_count": 12,
      "metadata": {
        "id": "rjnnNOWhVWzR"
      },
      "outputs": [],
      "source": [
        "cnn.add(tf.keras.layers.Dense(units=128,activation='relu'))"
      ]
    },
    {
      "cell_type": "markdown",
      "metadata": {
        "id": "yTldFvbX28Na"
      },
      "source": [
        "### Step 5 - Output Layer"
      ]
    },
    {
      "cell_type": "code",
      "execution_count": 13,
      "metadata": {
        "id": "-4UnBt5yWA5E"
      },
      "outputs": [],
      "source": [
        "cnn.add(tf.keras.layers.Dense(units=1,activation='sigmoid'))"
      ]
    },
    {
      "cell_type": "markdown",
      "metadata": {
        "id": "D6XkI90snSDl"
      },
      "source": [
        "## Part 3 - Training the CNN"
      ]
    },
    {
      "cell_type": "markdown",
      "metadata": {
        "id": "vfrFQACEnc6i"
      },
      "source": [
        "### Compiling the CNN"
      ]
    },
    {
      "cell_type": "code",
      "execution_count": 14,
      "metadata": {
        "id": "dQN7mwX1WUO8"
      },
      "outputs": [],
      "source": [
        "cnn.compile(optimizer= 'adam', loss= 'binary_crossentropy', metrics=['accuracy'])"
      ]
    },
    {
      "cell_type": "markdown",
      "metadata": {
        "id": "ehS-v3MIpX2h"
      },
      "source": [
        "### Training the CNN on the Training set and evaluating it on the Test set"
      ]
    },
    {
      "cell_type": "code",
      "execution_count": 15,
      "metadata": {},
      "outputs": [
        {
          "name": "stdout",
          "output_type": "stream",
          "text": [
            "Requirement already satisfied: pillow in d:\\anaconda\\envs\\tf\\lib\\site-packages (10.2.0)\n",
            "Note: you may need to restart the kernel to use updated packages.\n"
          ]
        }
      ],
      "source": [
        "%pip install pillow"
      ]
    },
    {
      "cell_type": "code",
      "execution_count": 16,
      "metadata": {
        "id": "-BVhCiPQWU_X"
      },
      "outputs": [
        {
          "name": "stdout",
          "output_type": "stream",
          "text": [
            "Epoch 1/25\n",
            "250/250 [==============================] - 98s 387ms/step - loss: 0.6863 - accuracy: 0.5494 - val_loss: 0.6740 - val_accuracy: 0.5915\n",
            "Epoch 2/25\n",
            "250/250 [==============================] - 31s 125ms/step - loss: 0.6324 - accuracy: 0.6444 - val_loss: 0.6243 - val_accuracy: 0.6380\n",
            "Epoch 3/25\n",
            "250/250 [==============================] - 33s 131ms/step - loss: 0.5816 - accuracy: 0.6942 - val_loss: 0.6082 - val_accuracy: 0.6840\n",
            "Epoch 4/25\n",
            "250/250 [==============================] - 35s 141ms/step - loss: 0.5522 - accuracy: 0.7191 - val_loss: 0.5447 - val_accuracy: 0.7340\n",
            "Epoch 5/25\n",
            "250/250 [==============================] - 36s 145ms/step - loss: 0.5141 - accuracy: 0.7433 - val_loss: 0.5083 - val_accuracy: 0.7645\n",
            "Epoch 6/25\n",
            "250/250 [==============================] - 35s 140ms/step - loss: 0.4945 - accuracy: 0.7610 - val_loss: 0.4986 - val_accuracy: 0.7750\n",
            "Epoch 7/25\n",
            "250/250 [==============================] - 37s 147ms/step - loss: 0.4745 - accuracy: 0.7760 - val_loss: 0.4777 - val_accuracy: 0.7895\n",
            "Epoch 8/25\n",
            "250/250 [==============================] - 36s 143ms/step - loss: 0.4617 - accuracy: 0.7834 - val_loss: 0.4988 - val_accuracy: 0.7715\n",
            "Epoch 9/25\n",
            "250/250 [==============================] - 35s 139ms/step - loss: 0.4407 - accuracy: 0.7959 - val_loss: 0.5170 - val_accuracy: 0.7705\n",
            "Epoch 10/25\n",
            "250/250 [==============================] - 36s 143ms/step - loss: 0.4248 - accuracy: 0.8039 - val_loss: 0.4711 - val_accuracy: 0.7845\n",
            "Epoch 11/25\n",
            "250/250 [==============================] - 36s 142ms/step - loss: 0.4165 - accuracy: 0.8044 - val_loss: 0.4719 - val_accuracy: 0.7885\n",
            "Epoch 12/25\n",
            "250/250 [==============================] - 35s 141ms/step - loss: 0.4042 - accuracy: 0.8160 - val_loss: 0.4652 - val_accuracy: 0.7785\n",
            "Epoch 13/25\n",
            "250/250 [==============================] - 37s 147ms/step - loss: 0.3894 - accuracy: 0.8251 - val_loss: 0.5086 - val_accuracy: 0.7680\n",
            "Epoch 14/25\n",
            "250/250 [==============================] - 36s 143ms/step - loss: 0.3691 - accuracy: 0.8311 - val_loss: 0.5283 - val_accuracy: 0.7880\n",
            "Epoch 15/25\n",
            "250/250 [==============================] - 35s 138ms/step - loss: 0.3579 - accuracy: 0.8418 - val_loss: 0.5054 - val_accuracy: 0.7930\n",
            "Epoch 16/25\n",
            "250/250 [==============================] - 35s 141ms/step - loss: 0.3375 - accuracy: 0.8521 - val_loss: 0.4735 - val_accuracy: 0.7910\n",
            "Epoch 17/25\n",
            "250/250 [==============================] - 36s 145ms/step - loss: 0.3272 - accuracy: 0.8593 - val_loss: 0.4729 - val_accuracy: 0.8000\n",
            "Epoch 18/25\n",
            "250/250 [==============================] - 35s 138ms/step - loss: 0.3068 - accuracy: 0.8709 - val_loss: 0.5037 - val_accuracy: 0.7955\n",
            "Epoch 19/25\n",
            "250/250 [==============================] - 36s 142ms/step - loss: 0.2971 - accuracy: 0.8745 - val_loss: 0.5225 - val_accuracy: 0.7750\n",
            "Epoch 20/25\n",
            "250/250 [==============================] - 36s 143ms/step - loss: 0.2770 - accuracy: 0.8808 - val_loss: 0.5244 - val_accuracy: 0.7935\n",
            "Epoch 21/25\n",
            "250/250 [==============================] - 35s 139ms/step - loss: 0.2637 - accuracy: 0.8876 - val_loss: 0.5292 - val_accuracy: 0.7890\n",
            "Epoch 22/25\n",
            "250/250 [==============================] - 46s 182ms/step - loss: 0.2625 - accuracy: 0.8901 - val_loss: 0.5262 - val_accuracy: 0.8030\n",
            "Epoch 23/25\n",
            "250/250 [==============================] - 38s 150ms/step - loss: 0.2320 - accuracy: 0.9049 - val_loss: 0.5560 - val_accuracy: 0.7885\n",
            "Epoch 24/25\n",
            "250/250 [==============================] - 35s 141ms/step - loss: 0.2246 - accuracy: 0.9086 - val_loss: 0.5636 - val_accuracy: 0.8005\n",
            "Epoch 25/25\n",
            "250/250 [==============================] - 35s 141ms/step - loss: 0.2155 - accuracy: 0.9119 - val_loss: 0.5343 - val_accuracy: 0.8005\n"
          ]
        },
        {
          "data": {
            "text/plain": [
              "<keras.callbacks.History at 0x27217dd1720>"
            ]
          },
          "execution_count": 16,
          "metadata": {},
          "output_type": "execute_result"
        }
      ],
      "source": [
        "cnn.fit(x = training_set, validation_data = test_set, epochs = 25)"
      ]
    },
    {
      "cell_type": "markdown",
      "metadata": {
        "id": "U3PZasO0006Z"
      },
      "source": [
        "## Part 4 - Making a single prediction"
      ]
    },
    {
      "cell_type": "code",
      "execution_count": 23,
      "metadata": {
        "id": "yKbkYtCnWVdC"
      },
      "outputs": [
        {
          "name": "stdout",
          "output_type": "stream",
          "text": [
            "1/1 [==============================] - 0s 211ms/step\n"
          ]
        }
      ],
      "source": [
        "import numpy as np\n",
        "from keras.utils import load_img,img_to_array\n",
        "test_image = load_img('dataset/single_prediction/cat_or_dog_1.jpg', target_size = (64, 64))\n",
        "test_image = img_to_array(test_image)\n",
        "test_image = np.expand_dims(test_image, axis = 0)\n",
        "result = cnn.predict(test_image)\n",
        "training_set.class_indices\n",
        "if result[0][0] == 1:\n",
        "  prediction = 'dog'\n",
        "else:\n",
        "  prediction = 'cat'"
      ]
    },
    {
      "cell_type": "code",
      "execution_count": 25,
      "metadata": {
        "id": "VqQA3m2Ucz-5"
      },
      "outputs": [
        {
          "name": "stdout",
          "output_type": "stream",
          "text": [
            "cat\n"
          ]
        }
      ],
      "source": [
        "print(prediction)"
      ]
    },
    {
      "cell_type": "code",
      "execution_count": 26,
      "metadata": {},
      "outputs": [
        {
          "name": "stdout",
          "output_type": "stream",
          "text": [
            "1/1 [==============================] - 0s 25ms/step\n"
          ]
        }
      ],
      "source": [
        "import numpy as np\n",
        "from keras.utils import load_img,img_to_array\n",
        "test_image = load_img('dataset/single_prediction/cat_or_dog_2.jpg', target_size = (64, 64))\n",
        "test_image = img_to_array(test_image)\n",
        "test_image = np.expand_dims(test_image, axis = 0)\n",
        "result = cnn.predict(test_image)\n",
        "training_set.class_indices\n",
        "if result[0][0] == 1:\n",
        "  prediction2 = 'dog'\n",
        "else:\n",
        "  prediction2 = 'cat'"
      ]
    },
    {
      "cell_type": "code",
      "execution_count": 27,
      "metadata": {},
      "outputs": [
        {
          "name": "stdout",
          "output_type": "stream",
          "text": [
            "dog\n"
          ]
        }
      ],
      "source": [
        "print(prediction2)"
      ]
    }
  ],
  "metadata": {
    "colab": {
      "provenance": [],
      "toc_visible": true
    },
    "kernelspec": {
      "display_name": "Python 3",
      "name": "python3"
    },
    "language_info": {
      "codemirror_mode": {
        "name": "ipython",
        "version": 3
      },
      "file_extension": ".py",
      "mimetype": "text/x-python",
      "name": "python",
      "nbconvert_exporter": "python",
      "pygments_lexer": "ipython3",
      "version": "3.10.13"
    }
  },
  "nbformat": 4,
  "nbformat_minor": 0
}
